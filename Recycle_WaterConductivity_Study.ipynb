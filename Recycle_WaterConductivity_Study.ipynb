{
 "cells": [
  {
   "cell_type": "markdown",
   "id": "df7dcabe",
   "metadata": {},
   "source": [
    "Downloaded the IOT Sensing data for recycle water dataset from Kaggle:\n",
    "https://www.kaggle.com/datasets/ekleenkaur17/iot-sensing-data-for-recycled-water"
   ]
  },
  {
   "cell_type": "code",
   "execution_count": 1,
   "id": "7b561e9b",
   "metadata": {},
   "outputs": [],
   "source": [
    "import pandas as pd\n",
    "import numpy as np\n",
    "import matplotlib as plt"
   ]
  },
  {
   "cell_type": "code",
   "execution_count": 2,
   "id": "a1b40ccf",
   "metadata": {},
   "outputs": [],
   "source": [
    "data = pd.read_csv(\"IOTMeterData.csv\")"
   ]
  },
  {
   "cell_type": "code",
   "execution_count": 3,
   "id": "c7426486",
   "metadata": {
    "scrolled": true
   },
   "outputs": [
    {
     "data": {
      "text/html": [
       "<div>\n",
       "<style scoped>\n",
       "    .dataframe tbody tr th:only-of-type {\n",
       "        vertical-align: middle;\n",
       "    }\n",
       "\n",
       "    .dataframe tbody tr th {\n",
       "        vertical-align: top;\n",
       "    }\n",
       "\n",
       "    .dataframe thead th {\n",
       "        text-align: right;\n",
       "    }\n",
       "</style>\n",
       "<table border=\"1\" class=\"dataframe\">\n",
       "  <thead>\n",
       "    <tr style=\"text-align: right;\">\n",
       "      <th></th>\n",
       "      <th>Temperature (�C)</th>\n",
       "      <th>pH</th>\n",
       "      <th>Turbidity (NTU)</th>\n",
       "      <th>BOD (mg/l)</th>\n",
       "      <th>Fecal Coliform (MPN/100ml)</th>\n",
       "      <th>Disolved Oxygen (mg/l)</th>\n",
       "      <th>NITRATENAN N+ NITRITENANN (mg/l)</th>\n",
       "      <th>Conductivity (�mhos/cm)</th>\n",
       "    </tr>\n",
       "  </thead>\n",
       "  <tbody>\n",
       "    <tr>\n",
       "      <th>0</th>\n",
       "      <td>30.6</td>\n",
       "      <td>7.5</td>\n",
       "      <td>47.0</td>\n",
       "      <td>48.9</td>\n",
       "      <td>5421</td>\n",
       "      <td>4.0</td>\n",
       "      <td>0.13</td>\n",
       "      <td>208</td>\n",
       "    </tr>\n",
       "    <tr>\n",
       "      <th>1</th>\n",
       "      <td>30.6</td>\n",
       "      <td>7.2</td>\n",
       "      <td>45.8</td>\n",
       "      <td>47.0</td>\n",
       "      <td>5632</td>\n",
       "      <td>4.0</td>\n",
       "      <td>0.12</td>\n",
       "      <td>210</td>\n",
       "    </tr>\n",
       "    <tr>\n",
       "      <th>2</th>\n",
       "      <td>30.6</td>\n",
       "      <td>7.1</td>\n",
       "      <td>45.4</td>\n",
       "      <td>48.1</td>\n",
       "      <td>5550</td>\n",
       "      <td>4.0</td>\n",
       "      <td>0.10</td>\n",
       "      <td>219</td>\n",
       "    </tr>\n",
       "    <tr>\n",
       "      <th>3</th>\n",
       "      <td>30.6</td>\n",
       "      <td>7.1</td>\n",
       "      <td>45.6</td>\n",
       "      <td>48.9</td>\n",
       "      <td>5444</td>\n",
       "      <td>4.0</td>\n",
       "      <td>0.12</td>\n",
       "      <td>220</td>\n",
       "    </tr>\n",
       "    <tr>\n",
       "      <th>4</th>\n",
       "      <td>30.6</td>\n",
       "      <td>7.2</td>\n",
       "      <td>46.0</td>\n",
       "      <td>47.0</td>\n",
       "      <td>5218</td>\n",
       "      <td>3.9</td>\n",
       "      <td>0.13</td>\n",
       "      <td>215</td>\n",
       "    </tr>\n",
       "    <tr>\n",
       "      <th>5</th>\n",
       "      <td>30.6</td>\n",
       "      <td>7.2</td>\n",
       "      <td>46.3</td>\n",
       "      <td>48.1</td>\n",
       "      <td>5222</td>\n",
       "      <td>4.0</td>\n",
       "      <td>0.12</td>\n",
       "      <td>220</td>\n",
       "    </tr>\n",
       "    <tr>\n",
       "      <th>6</th>\n",
       "      <td>30.6</td>\n",
       "      <td>7.2</td>\n",
       "      <td>46.1</td>\n",
       "      <td>48.9</td>\n",
       "      <td>5219</td>\n",
       "      <td>4.0</td>\n",
       "      <td>0.15</td>\n",
       "      <td>222</td>\n",
       "    </tr>\n",
       "    <tr>\n",
       "      <th>7</th>\n",
       "      <td>30.6</td>\n",
       "      <td>7.2</td>\n",
       "      <td>45.9</td>\n",
       "      <td>47.0</td>\n",
       "      <td>5225</td>\n",
       "      <td>4.0</td>\n",
       "      <td>0.15</td>\n",
       "      <td>228</td>\n",
       "    </tr>\n",
       "    <tr>\n",
       "      <th>8</th>\n",
       "      <td>30.6</td>\n",
       "      <td>7.2</td>\n",
       "      <td>46.2</td>\n",
       "      <td>48.1</td>\n",
       "      <td>5231</td>\n",
       "      <td>3.9</td>\n",
       "      <td>0.13</td>\n",
       "      <td>225</td>\n",
       "    </tr>\n",
       "    <tr>\n",
       "      <th>9</th>\n",
       "      <td>30.6</td>\n",
       "      <td>7.0</td>\n",
       "      <td>45.6</td>\n",
       "      <td>48.7</td>\n",
       "      <td>5233</td>\n",
       "      <td>4.0</td>\n",
       "      <td>0.10</td>\n",
       "      <td>230</td>\n",
       "    </tr>\n",
       "  </tbody>\n",
       "</table>\n",
       "</div>"
      ],
      "text/plain": [
       "   Temperature (�C)   pH  Turbidity (NTU)  BOD (mg/l)  \\\n",
       "0              30.6  7.5             47.0        48.9   \n",
       "1              30.6  7.2             45.8        47.0   \n",
       "2              30.6  7.1             45.4        48.1   \n",
       "3              30.6  7.1             45.6        48.9   \n",
       "4              30.6  7.2             46.0        47.0   \n",
       "5              30.6  7.2             46.3        48.1   \n",
       "6              30.6  7.2             46.1        48.9   \n",
       "7              30.6  7.2             45.9        47.0   \n",
       "8              30.6  7.2             46.2        48.1   \n",
       "9              30.6  7.0             45.6        48.7   \n",
       "\n",
       "   Fecal Coliform (MPN/100ml)  Disolved Oxygen (mg/l)  \\\n",
       "0                        5421                     4.0   \n",
       "1                        5632                     4.0   \n",
       "2                        5550                     4.0   \n",
       "3                        5444                     4.0   \n",
       "4                        5218                     3.9   \n",
       "5                        5222                     4.0   \n",
       "6                        5219                     4.0   \n",
       "7                        5225                     4.0   \n",
       "8                        5231                     3.9   \n",
       "9                        5233                     4.0   \n",
       "\n",
       "   NITRATENAN N+ NITRITENANN (mg/l)  Conductivity (�mhos/cm)  \n",
       "0                              0.13                      208  \n",
       "1                              0.12                      210  \n",
       "2                              0.10                      219  \n",
       "3                              0.12                      220  \n",
       "4                              0.13                      215  \n",
       "5                              0.12                      220  \n",
       "6                              0.15                      222  \n",
       "7                              0.15                      228  \n",
       "8                              0.13                      225  \n",
       "9                              0.10                      230  "
      ]
     },
     "execution_count": 3,
     "metadata": {},
     "output_type": "execute_result"
    }
   ],
   "source": [
    "data.head(10)"
   ]
  },
  {
   "cell_type": "markdown",
   "id": "06832341",
   "metadata": {},
   "source": [
    "# Conductivity will be the target column at this study.\n",
    "\n",
    "The decision was made by checking the dataset, I visualized that the main changes were happening on the conductivity. There are some parameters that are very similar or equal to other lines, however the conductivity was changing and that intrigued me to discover what other paramenters were influenciating the most on the changes happening. \n",
    "\n",
    "With that observation I wanted to start understanding what could be making such big difference for the recycled water to be more or less conductive."
   ]
  },
  {
   "cell_type": "code",
   "execution_count": 4,
   "id": "527a33e9",
   "metadata": {},
   "outputs": [
    {
     "name": "stdout",
     "output_type": "stream",
     "text": [
      "<class 'pandas.core.frame.DataFrame'>\n",
      "RangeIndex: 1000 entries, 0 to 999\n",
      "Data columns (total 8 columns):\n",
      " #   Column                            Non-Null Count  Dtype  \n",
      "---  ------                            --------------  -----  \n",
      " 0   Temperature (�C)                  1000 non-null   float64\n",
      " 1   pH                                1000 non-null   float64\n",
      " 2   Turbidity (NTU)                   1000 non-null   float64\n",
      " 3   BOD (mg/l)                        1000 non-null   float64\n",
      " 4   Fecal Coliform (MPN/100ml)        1000 non-null   int64  \n",
      " 5   Disolved Oxygen (mg/l)            1000 non-null   float64\n",
      " 6   NITRATENAN N+ NITRITENANN (mg/l)  1000 non-null   float64\n",
      " 7   Conductivity (�mhos/cm)           1000 non-null   int64  \n",
      "dtypes: float64(6), int64(2)\n",
      "memory usage: 62.6 KB\n"
     ]
    }
   ],
   "source": [
    "data.info()"
   ]
  },
  {
   "cell_type": "markdown",
   "id": "e50b96c4",
   "metadata": {},
   "source": [
    "The dataset is small, only up to 1000 entries, which means it is very small. However, I thought it would be perfect to be a first project and apply all the end-to-end knowledge learned through the course at Centennial College."
   ]
  },
  {
   "cell_type": "code",
   "execution_count": 5,
   "id": "dabbedf8",
   "metadata": {},
   "outputs": [
    {
     "data": {
      "text/html": [
       "<div>\n",
       "<style scoped>\n",
       "    .dataframe tbody tr th:only-of-type {\n",
       "        vertical-align: middle;\n",
       "    }\n",
       "\n",
       "    .dataframe tbody tr th {\n",
       "        vertical-align: top;\n",
       "    }\n",
       "\n",
       "    .dataframe thead th {\n",
       "        text-align: right;\n",
       "    }\n",
       "</style>\n",
       "<table border=\"1\" class=\"dataframe\">\n",
       "  <thead>\n",
       "    <tr style=\"text-align: right;\">\n",
       "      <th></th>\n",
       "      <th>Temperature (�C)</th>\n",
       "      <th>pH</th>\n",
       "      <th>Turbidity (NTU)</th>\n",
       "      <th>BOD (mg/l)</th>\n",
       "      <th>Fecal Coliform (MPN/100ml)</th>\n",
       "      <th>Disolved Oxygen (mg/l)</th>\n",
       "      <th>NITRATENAN N+ NITRITENANN (mg/l)</th>\n",
       "      <th>Conductivity (�mhos/cm)</th>\n",
       "    </tr>\n",
       "  </thead>\n",
       "  <tbody>\n",
       "    <tr>\n",
       "      <th>count</th>\n",
       "      <td>1000.000000</td>\n",
       "      <td>1000.000000</td>\n",
       "      <td>1000.000000</td>\n",
       "      <td>1000.000000</td>\n",
       "      <td>1000.000000</td>\n",
       "      <td>1000.000000</td>\n",
       "      <td>1000.000000</td>\n",
       "      <td>1000.000000</td>\n",
       "    </tr>\n",
       "    <tr>\n",
       "      <th>mean</th>\n",
       "      <td>32.131600</td>\n",
       "      <td>7.450400</td>\n",
       "      <td>45.095000</td>\n",
       "      <td>44.991100</td>\n",
       "      <td>5287.422000</td>\n",
       "      <td>3.827500</td>\n",
       "      <td>0.156550</td>\n",
       "      <td>298.871000</td>\n",
       "    </tr>\n",
       "    <tr>\n",
       "      <th>std</th>\n",
       "      <td>2.067355</td>\n",
       "      <td>0.302045</td>\n",
       "      <td>1.957792</td>\n",
       "      <td>4.466587</td>\n",
       "      <td>187.107785</td>\n",
       "      <td>0.196857</td>\n",
       "      <td>0.052826</td>\n",
       "      <td>49.806536</td>\n",
       "    </tr>\n",
       "    <tr>\n",
       "      <th>min</th>\n",
       "      <td>28.000000</td>\n",
       "      <td>6.800000</td>\n",
       "      <td>42.100000</td>\n",
       "      <td>30.900000</td>\n",
       "      <td>4699.000000</td>\n",
       "      <td>3.200000</td>\n",
       "      <td>0.100000</td>\n",
       "      <td>204.000000</td>\n",
       "    </tr>\n",
       "    <tr>\n",
       "      <th>25%</th>\n",
       "      <td>30.800000</td>\n",
       "      <td>7.200000</td>\n",
       "      <td>43.500000</td>\n",
       "      <td>44.400000</td>\n",
       "      <td>5222.000000</td>\n",
       "      <td>3.800000</td>\n",
       "      <td>0.100000</td>\n",
       "      <td>255.000000</td>\n",
       "    </tr>\n",
       "    <tr>\n",
       "      <th>50%</th>\n",
       "      <td>31.500000</td>\n",
       "      <td>7.400000</td>\n",
       "      <td>44.500000</td>\n",
       "      <td>46.500000</td>\n",
       "      <td>5317.000000</td>\n",
       "      <td>3.900000</td>\n",
       "      <td>0.140000</td>\n",
       "      <td>290.500000</td>\n",
       "    </tr>\n",
       "    <tr>\n",
       "      <th>75%</th>\n",
       "      <td>32.600000</td>\n",
       "      <td>7.600000</td>\n",
       "      <td>46.600000</td>\n",
       "      <td>48.200000</td>\n",
       "      <td>5428.000000</td>\n",
       "      <td>4.000000</td>\n",
       "      <td>0.190000</td>\n",
       "      <td>335.000000</td>\n",
       "    </tr>\n",
       "    <tr>\n",
       "      <th>max</th>\n",
       "      <td>38.800000</td>\n",
       "      <td>8.200000</td>\n",
       "      <td>50.900000</td>\n",
       "      <td>50.700000</td>\n",
       "      <td>5643.000000</td>\n",
       "      <td>4.000000</td>\n",
       "      <td>0.300000</td>\n",
       "      <td>405.000000</td>\n",
       "    </tr>\n",
       "  </tbody>\n",
       "</table>\n",
       "</div>"
      ],
      "text/plain": [
       "       Temperature (�C)           pH  Turbidity (NTU)   BOD (mg/l)  \\\n",
       "count       1000.000000  1000.000000      1000.000000  1000.000000   \n",
       "mean          32.131600     7.450400        45.095000    44.991100   \n",
       "std            2.067355     0.302045         1.957792     4.466587   \n",
       "min           28.000000     6.800000        42.100000    30.900000   \n",
       "25%           30.800000     7.200000        43.500000    44.400000   \n",
       "50%           31.500000     7.400000        44.500000    46.500000   \n",
       "75%           32.600000     7.600000        46.600000    48.200000   \n",
       "max           38.800000     8.200000        50.900000    50.700000   \n",
       "\n",
       "       Fecal Coliform (MPN/100ml)  Disolved Oxygen (mg/l)  \\\n",
       "count                 1000.000000             1000.000000   \n",
       "mean                  5287.422000                3.827500   \n",
       "std                    187.107785                0.196857   \n",
       "min                   4699.000000                3.200000   \n",
       "25%                   5222.000000                3.800000   \n",
       "50%                   5317.000000                3.900000   \n",
       "75%                   5428.000000                4.000000   \n",
       "max                   5643.000000                4.000000   \n",
       "\n",
       "       NITRATENAN N+ NITRITENANN (mg/l)  Conductivity (�mhos/cm)  \n",
       "count                       1000.000000              1000.000000  \n",
       "mean                           0.156550               298.871000  \n",
       "std                            0.052826                49.806536  \n",
       "min                            0.100000               204.000000  \n",
       "25%                            0.100000               255.000000  \n",
       "50%                            0.140000               290.500000  \n",
       "75%                            0.190000               335.000000  \n",
       "max                            0.300000               405.000000  "
      ]
     },
     "execution_count": 5,
     "metadata": {},
     "output_type": "execute_result"
    }
   ],
   "source": [
    "data.describe()"
   ]
  },
  {
   "cell_type": "code",
   "execution_count": 6,
   "id": "b688dff5",
   "metadata": {},
   "outputs": [
    {
     "data": {
      "text/plain": [
       "(1000, 8)"
      ]
     },
     "execution_count": 6,
     "metadata": {},
     "output_type": "execute_result"
    }
   ],
   "source": [
    "data.shape"
   ]
  },
  {
   "cell_type": "code",
   "execution_count": 7,
   "id": "d78baed7",
   "metadata": {},
   "outputs": [
    {
     "data": {
      "image/png": "[encoded data removed]",
      "text/plain": [
       "<Figure size 1800x2520 with 9 Axes>"
      ]
     },
     "metadata": {
      "needs_background": "light"
     },
     "output_type": "display_data"
    }
   ],
   "source": [
    "%matplotlib inline\n",
    "import matplotlib.pyplot as plt\n",
    "data.hist(bins=70, figsize=(25,35))\n",
    "plt.show()"
   ]
  },
  {
   "cell_type": "markdown",
   "id": "78e31727",
   "metadata": {},
   "source": [
    "Through the histogram other observations can be made:\n",
    "\n",
    "    - Temperature has high peak values from 30°C - 32°C\n",
    "    \n",
    "    - Fecal coliform has high range from 5200 to 5400 MPN/100ml\n",
    "    \n",
    "    - BOD has it's peak about 45mg/l to 50mg/l\n",
    "    \n",
    "    - Turbidity has a peak from 42NTU to 41NTU\n",
    "    \n",
    "This study will try to verify which variable impacts the most the conductivity of the recycled water"
   ]
  },
  {
   "cell_type": "code",
   "execution_count": 8,
   "id": "52eca662",
   "metadata": {},
   "outputs": [
    {
     "data": {
      "text/plain": [
       "Text(0.5, 1.0, 'Scatterplot Conductivity vs Temperature')"
      ]
     },
     "execution_count": 8,
     "metadata": {},
     "output_type": "execute_result"
    },
    {
     "data": {
      "image/png": "[encoded data removed]",
      "text/plain": [
       "<Figure size 432x288 with 1 Axes>"
      ]
     },
     "metadata": {
      "needs_background": "light"
     },
     "output_type": "display_data"
    }
   ],
   "source": [
    "import seaborn as sns\n",
    "ax = sns.scatterplot(x=\"Temperature (�C)\",y=\"Conductivity (�mhos/cm)\",data=data)\n",
    "ax.set_title(\"Scatterplot Conductivity vs Temperature\")"
   ]
  },
  {
   "cell_type": "code",
   "execution_count": 9,
   "id": "16d8da4f",
   "metadata": {},
   "outputs": [
    {
     "data": {
      "text/plain": [
       "Text(0.5, 1.0, 'Scatterplot Conductivity vs pH')"
      ]
     },
     "execution_count": 9,
     "metadata": {},
     "output_type": "execute_result"
    },
    {
     "data": {
      "image/png": "[encoded data removed]",
      "text/plain": [
       "<Figure size 432x288 with 1 Axes>"
      ]
     },
     "metadata": {
      "needs_background": "light"
     },
     "output_type": "display_data"
    }
   ],
   "source": [
    "ax_ph = sns.scatterplot(x=\"pH\",y=\"Conductivity (�mhos/cm)\",data=data)\n",
    "ax_ph.set_title(\"Scatterplot Conductivity vs pH\")"
   ]
  },
  {
   "cell_type": "code",
   "execution_count": 10,
   "id": "afe798a6",
   "metadata": {},
   "outputs": [
    {
     "data": {
      "text/html": [
       "<div>\n",
       "<style scoped>\n",
       "    .dataframe tbody tr th:only-of-type {\n",
       "        vertical-align: middle;\n",
       "    }\n",
       "\n",
       "    .dataframe tbody tr th {\n",
       "        vertical-align: top;\n",
       "    }\n",
       "\n",
       "    .dataframe thead th {\n",
       "        text-align: right;\n",
       "    }\n",
       "</style>\n",
       "<table border=\"1\" class=\"dataframe\">\n",
       "  <thead>\n",
       "    <tr style=\"text-align: right;\">\n",
       "      <th></th>\n",
       "      <th>Temperature (�C)</th>\n",
       "      <th>pH</th>\n",
       "      <th>Turbidity (NTU)</th>\n",
       "      <th>BOD (mg/l)</th>\n",
       "      <th>Fecal Coliform (MPN/100ml)</th>\n",
       "      <th>Disolved Oxygen (mg/l)</th>\n",
       "      <th>NITRATENAN N+ NITRITENANN (mg/l)</th>\n",
       "      <th>Conductivity (�mhos/cm)</th>\n",
       "    </tr>\n",
       "  </thead>\n",
       "  <tbody>\n",
       "    <tr>\n",
       "      <th>Temperature (�C)</th>\n",
       "      <td>1.00</td>\n",
       "      <td>0.52</td>\n",
       "      <td>0.65</td>\n",
       "      <td>-0.96</td>\n",
       "      <td>-0.84</td>\n",
       "      <td>-0.93</td>\n",
       "      <td>0.90</td>\n",
       "      <td>0.79</td>\n",
       "    </tr>\n",
       "    <tr>\n",
       "      <th>pH</th>\n",
       "      <td>0.52</td>\n",
       "      <td>1.00</td>\n",
       "      <td>0.48</td>\n",
       "      <td>-0.52</td>\n",
       "      <td>-0.38</td>\n",
       "      <td>-0.54</td>\n",
       "      <td>0.42</td>\n",
       "      <td>0.37</td>\n",
       "    </tr>\n",
       "    <tr>\n",
       "      <th>Turbidity (NTU)</th>\n",
       "      <td>0.65</td>\n",
       "      <td>0.48</td>\n",
       "      <td>1.00</td>\n",
       "      <td>-0.67</td>\n",
       "      <td>-0.53</td>\n",
       "      <td>-0.63</td>\n",
       "      <td>0.62</td>\n",
       "      <td>0.46</td>\n",
       "    </tr>\n",
       "    <tr>\n",
       "      <th>BOD (mg/l)</th>\n",
       "      <td>-0.96</td>\n",
       "      <td>-0.52</td>\n",
       "      <td>-0.67</td>\n",
       "      <td>1.00</td>\n",
       "      <td>0.82</td>\n",
       "      <td>0.93</td>\n",
       "      <td>-0.88</td>\n",
       "      <td>-0.76</td>\n",
       "    </tr>\n",
       "    <tr>\n",
       "      <th>Fecal Coliform (MPN/100ml)</th>\n",
       "      <td>-0.84</td>\n",
       "      <td>-0.38</td>\n",
       "      <td>-0.53</td>\n",
       "      <td>0.82</td>\n",
       "      <td>1.00</td>\n",
       "      <td>0.79</td>\n",
       "      <td>-0.83</td>\n",
       "      <td>-0.76</td>\n",
       "    </tr>\n",
       "    <tr>\n",
       "      <th>Disolved Oxygen (mg/l)</th>\n",
       "      <td>-0.93</td>\n",
       "      <td>-0.54</td>\n",
       "      <td>-0.63</td>\n",
       "      <td>0.93</td>\n",
       "      <td>0.79</td>\n",
       "      <td>1.00</td>\n",
       "      <td>-0.84</td>\n",
       "      <td>-0.74</td>\n",
       "    </tr>\n",
       "    <tr>\n",
       "      <th>NITRATENAN N+ NITRITENANN (mg/l)</th>\n",
       "      <td>0.90</td>\n",
       "      <td>0.42</td>\n",
       "      <td>0.62</td>\n",
       "      <td>-0.88</td>\n",
       "      <td>-0.83</td>\n",
       "      <td>-0.84</td>\n",
       "      <td>1.00</td>\n",
       "      <td>0.80</td>\n",
       "    </tr>\n",
       "    <tr>\n",
       "      <th>Conductivity (�mhos/cm)</th>\n",
       "      <td>0.79</td>\n",
       "      <td>0.37</td>\n",
       "      <td>0.46</td>\n",
       "      <td>-0.76</td>\n",
       "      <td>-0.76</td>\n",
       "      <td>-0.74</td>\n",
       "      <td>0.80</td>\n",
       "      <td>1.00</td>\n",
       "    </tr>\n",
       "  </tbody>\n",
       "</table>\n",
       "</div>"
      ],
      "text/plain": [
       "                                  Temperature (�C)    pH  Turbidity (NTU)  \\\n",
       "Temperature (�C)                              1.00  0.52             0.65   \n",
       "pH                                            0.52  1.00             0.48   \n",
       "Turbidity (NTU)                               0.65  0.48             1.00   \n",
       "BOD (mg/l)                                   -0.96 -0.52            -0.67   \n",
       "Fecal Coliform (MPN/100ml)                   -0.84 -0.38            -0.53   \n",
       "Disolved Oxygen (mg/l)                       -0.93 -0.54            -0.63   \n",
       "NITRATENAN N+ NITRITENANN (mg/l)              0.90  0.42             0.62   \n",
       "Conductivity (�mhos/cm)                       0.79  0.37             0.46   \n",
       "\n",
       "                                  BOD (mg/l)  Fecal Coliform (MPN/100ml)  \\\n",
       "Temperature (�C)                       -0.96                       -0.84   \n",
       "pH                                     -0.52                       -0.38   \n",
       "Turbidity (NTU)                        -0.67                       -0.53   \n",
       "BOD (mg/l)                              1.00                        0.82   \n",
       "Fecal Coliform (MPN/100ml)              0.82                        1.00   \n",
       "Disolved Oxygen (mg/l)                  0.93                        0.79   \n",
       "NITRATENAN N+ NITRITENANN (mg/l)       -0.88                       -0.83   \n",
       "Conductivity (�mhos/cm)                -0.76                       -0.76   \n",
       "\n",
       "                                  Disolved Oxygen (mg/l)  \\\n",
       "Temperature (�C)                                   -0.93   \n",
       "pH                                                 -0.54   \n",
       "Turbidity (NTU)                                    -0.63   \n",
       "BOD (mg/l)                                          0.93   \n",
       "Fecal Coliform (MPN/100ml)                          0.79   \n",
       "Disolved Oxygen (mg/l)                              1.00   \n",
       "NITRATENAN N+ NITRITENANN (mg/l)                   -0.84   \n",
       "Conductivity (�mhos/cm)                            -0.74   \n",
       "\n",
       "                                  NITRATENAN N+ NITRITENANN (mg/l)  \\\n",
       "Temperature (�C)                                              0.90   \n",
       "pH                                                            0.42   \n",
       "Turbidity (NTU)                                               0.62   \n",
       "BOD (mg/l)                                                   -0.88   \n",
       "Fecal Coliform (MPN/100ml)                                   -0.83   \n",
       "Disolved Oxygen (mg/l)                                       -0.84   \n",
       "NITRATENAN N+ NITRITENANN (mg/l)                              1.00   \n",
       "Conductivity (�mhos/cm)                                       0.80   \n",
       "\n",
       "                                  Conductivity (�mhos/cm)  \n",
       "Temperature (�C)                                     0.79  \n",
       "pH                                                   0.37  \n",
       "Turbidity (NTU)                                      0.46  \n",
       "BOD (mg/l)                                          -0.76  \n",
       "Fecal Coliform (MPN/100ml)                          -0.76  \n",
       "Disolved Oxygen (mg/l)                              -0.74  \n",
       "NITRATENAN N+ NITRITENANN (mg/l)                     0.80  \n",
       "Conductivity (�mhos/cm)                              1.00  "
      ]
     },
     "execution_count": 10,
     "metadata": {},
     "output_type": "execute_result"
    }
   ],
   "source": [
    "correlation_map = data.corr()\n",
    "round(correlation_map, 2)"
   ]
  },
  {
   "cell_type": "code",
   "execution_count": 11,
   "id": "15ab5cc0",
   "metadata": {},
   "outputs": [
    {
     "data": {
      "text/plain": [
       "<AxesSubplot:>"
      ]
     },
     "execution_count": 11,
     "metadata": {},
     "output_type": "execute_result"
    },
    {
     "data": {
      "image/png": "[encoded data removed]",
      "text/plain": [
       "<Figure size 432x288 with 2 Axes>"
      ]
     },
     "metadata": {
      "needs_background": "light"
     },
     "output_type": "display_data"
    }
   ],
   "source": [
    "sns.heatmap(correlation_map)"
   ]
  },
  {
   "cell_type": "markdown",
   "id": "6606c10c",
   "metadata": {},
   "source": [
    "By checking the heatmap, Conductivity has the very minimum correlations with the columns of:\n",
    "\n",
    "    - BOD\n",
    "    \n",
    "    - Fecal Coliform\n",
    "    \n",
    "    - Disolved Oxygen\n",
    "    \n",
    "And strong correlation towards:\n",
    "\n",
    "    - Nitratetan N+\n",
    "    \n",
    "    - Turbidity\n",
    "    \n",
    "    - pH\n",
    "    \n",
    "    - Temperature\n",
    "    \n",
    "For advancing, columns will low correlation will be dropped, since by further analysis of the heatmap they don't have many correlations with the other columns that have strong correlation with Conductivity."
   ]
  },
  {
   "cell_type": "code",
   "execution_count": 12,
   "id": "ed4c6d4c",
   "metadata": {},
   "outputs": [
    {
     "data": {
      "text/html": [
       "<div>\n",
       "<style scoped>\n",
       "    .dataframe tbody tr th:only-of-type {\n",
       "        vertical-align: middle;\n",
       "    }\n",
       "\n",
       "    .dataframe tbody tr th {\n",
       "        vertical-align: top;\n",
       "    }\n",
       "\n",
       "    .dataframe thead th {\n",
       "        text-align: right;\n",
       "    }\n",
       "</style>\n",
       "<table border=\"1\" class=\"dataframe\">\n",
       "  <thead>\n",
       "    <tr style=\"text-align: right;\">\n",
       "      <th></th>\n",
       "      <th>Temperature (�C)</th>\n",
       "      <th>pH</th>\n",
       "      <th>Turbidity (NTU)</th>\n",
       "      <th>NITRATENAN N+ NITRITENANN (mg/l)</th>\n",
       "      <th>Conductivity (�mhos/cm)</th>\n",
       "    </tr>\n",
       "  </thead>\n",
       "  <tbody>\n",
       "    <tr>\n",
       "      <th>0</th>\n",
       "      <td>30.6</td>\n",
       "      <td>7.5</td>\n",
       "      <td>47.0</td>\n",
       "      <td>0.13</td>\n",
       "      <td>208</td>\n",
       "    </tr>\n",
       "    <tr>\n",
       "      <th>1</th>\n",
       "      <td>30.6</td>\n",
       "      <td>7.2</td>\n",
       "      <td>45.8</td>\n",
       "      <td>0.12</td>\n",
       "      <td>210</td>\n",
       "    </tr>\n",
       "    <tr>\n",
       "      <th>2</th>\n",
       "      <td>30.6</td>\n",
       "      <td>7.1</td>\n",
       "      <td>45.4</td>\n",
       "      <td>0.10</td>\n",
       "      <td>219</td>\n",
       "    </tr>\n",
       "    <tr>\n",
       "      <th>3</th>\n",
       "      <td>30.6</td>\n",
       "      <td>7.1</td>\n",
       "      <td>45.6</td>\n",
       "      <td>0.12</td>\n",
       "      <td>220</td>\n",
       "    </tr>\n",
       "    <tr>\n",
       "      <th>4</th>\n",
       "      <td>30.6</td>\n",
       "      <td>7.2</td>\n",
       "      <td>46.0</td>\n",
       "      <td>0.13</td>\n",
       "      <td>215</td>\n",
       "    </tr>\n",
       "  </tbody>\n",
       "</table>\n",
       "</div>"
      ],
      "text/plain": [
       "   Temperature (�C)   pH  Turbidity (NTU)  NITRATENAN N+ NITRITENANN (mg/l)  \\\n",
       "0              30.6  7.5             47.0                              0.13   \n",
       "1              30.6  7.2             45.8                              0.12   \n",
       "2              30.6  7.1             45.4                              0.10   \n",
       "3              30.6  7.1             45.6                              0.12   \n",
       "4              30.6  7.2             46.0                              0.13   \n",
       "\n",
       "   Conductivity (�mhos/cm)  \n",
       "0                      208  \n",
       "1                      210  \n",
       "2                      219  \n",
       "3                      220  \n",
       "4                      215  "
      ]
     },
     "execution_count": 12,
     "metadata": {},
     "output_type": "execute_result"
    }
   ],
   "source": [
    "data = data.drop(['BOD (mg/l)','Fecal Coliform (MPN/100ml)','Disolved Oxygen (mg/l)'],axis =1)\n",
    "data.head()"
   ]
  },
  {
   "cell_type": "code",
   "execution_count": 13,
   "id": "be4b3e29",
   "metadata": {},
   "outputs": [
    {
     "data": {
      "text/html": [
       "<div>\n",
       "<style scoped>\n",
       "    .dataframe tbody tr th:only-of-type {\n",
       "        vertical-align: middle;\n",
       "    }\n",
       "\n",
       "    .dataframe tbody tr th {\n",
       "        vertical-align: top;\n",
       "    }\n",
       "\n",
       "    .dataframe thead th {\n",
       "        text-align: right;\n",
       "    }\n",
       "</style>\n",
       "<table border=\"1\" class=\"dataframe\">\n",
       "  <thead>\n",
       "    <tr style=\"text-align: right;\">\n",
       "      <th></th>\n",
       "      <th>Temperature (�C)</th>\n",
       "      <th>pH</th>\n",
       "      <th>Turbidity (NTU)</th>\n",
       "      <th>NITRATENAN N+ NITRITENANN (mg/l)</th>\n",
       "      <th>Conductivity (�mhos/cm)</th>\n",
       "    </tr>\n",
       "  </thead>\n",
       "  <tbody>\n",
       "    <tr>\n",
       "      <th>Temperature (�C)</th>\n",
       "      <td>1.00</td>\n",
       "      <td>0.52</td>\n",
       "      <td>0.65</td>\n",
       "      <td>0.90</td>\n",
       "      <td>0.79</td>\n",
       "    </tr>\n",
       "    <tr>\n",
       "      <th>pH</th>\n",
       "      <td>0.52</td>\n",
       "      <td>1.00</td>\n",
       "      <td>0.48</td>\n",
       "      <td>0.42</td>\n",
       "      <td>0.37</td>\n",
       "    </tr>\n",
       "    <tr>\n",
       "      <th>Turbidity (NTU)</th>\n",
       "      <td>0.65</td>\n",
       "      <td>0.48</td>\n",
       "      <td>1.00</td>\n",
       "      <td>0.62</td>\n",
       "      <td>0.46</td>\n",
       "    </tr>\n",
       "    <tr>\n",
       "      <th>NITRATENAN N+ NITRITENANN (mg/l)</th>\n",
       "      <td>0.90</td>\n",
       "      <td>0.42</td>\n",
       "      <td>0.62</td>\n",
       "      <td>1.00</td>\n",
       "      <td>0.80</td>\n",
       "    </tr>\n",
       "    <tr>\n",
       "      <th>Conductivity (�mhos/cm)</th>\n",
       "      <td>0.79</td>\n",
       "      <td>0.37</td>\n",
       "      <td>0.46</td>\n",
       "      <td>0.80</td>\n",
       "      <td>1.00</td>\n",
       "    </tr>\n",
       "  </tbody>\n",
       "</table>\n",
       "</div>"
      ],
      "text/plain": [
       "                                  Temperature (�C)    pH  Turbidity (NTU)  \\\n",
       "Temperature (�C)                              1.00  0.52             0.65   \n",
       "pH                                            0.52  1.00             0.48   \n",
       "Turbidity (NTU)                               0.65  0.48             1.00   \n",
       "NITRATENAN N+ NITRITENANN (mg/l)              0.90  0.42             0.62   \n",
       "Conductivity (�mhos/cm)                       0.79  0.37             0.46   \n",
       "\n",
       "                                  NITRATENAN N+ NITRITENANN (mg/l)  \\\n",
       "Temperature (�C)                                              0.90   \n",
       "pH                                                            0.42   \n",
       "Turbidity (NTU)                                               0.62   \n",
       "NITRATENAN N+ NITRITENANN (mg/l)                              1.00   \n",
       "Conductivity (�mhos/cm)                                       0.80   \n",
       "\n",
       "                                  Conductivity (�mhos/cm)  \n",
       "Temperature (�C)                                     0.79  \n",
       "pH                                                   0.37  \n",
       "Turbidity (NTU)                                      0.46  \n",
       "NITRATENAN N+ NITRITENANN (mg/l)                     0.80  \n",
       "Conductivity (�mhos/cm)                              1.00  "
      ]
     },
     "execution_count": 13,
     "metadata": {},
     "output_type": "execute_result"
    }
   ],
   "source": [
    "correlation_map2 = data.corr()\n",
    "round(correlation_map2,2)"
   ]
  },
  {
   "cell_type": "code",
   "execution_count": 14,
   "id": "d20e4253",
   "metadata": {},
   "outputs": [
    {
     "data": {
      "text/plain": [
       "<AxesSubplot:>"
      ]
     },
     "execution_count": 14,
     "metadata": {},
     "output_type": "execute_result"
    },
    {
     "data": {
      "image/png": "[encoded data removed]",
      "text/plain": [
       "<Figure size 432x288 with 2 Axes>"
      ]
     },
     "metadata": {
      "needs_background": "light"
     },
     "output_type": "display_data"
    }
   ],
   "source": [
    "sns.heatmap(correlation_map2)"
   ]
  },
  {
   "cell_type": "markdown",
   "id": "4c6b4f27",
   "metadata": {},
   "source": [
    "By analysing just the new heatmap, it is possible to see that the stronger correlations are with the following columns:\n",
    "\n",
    "    - Temperature\n",
    "    \n",
    "    - Nitratenan N+\n",
    "    \n",
    "Both interact between each other, which leads to believe that the temperature and the nitrate have something to do with the conductivity of the water."
   ]
  },
  {
   "cell_type": "code",
   "execution_count": 15,
   "id": "54b813b6",
   "metadata": {},
   "outputs": [],
   "source": [
    "from sklearn.model_selection import train_test_split\n",
    "from sklearn.linear_model import LogisticRegression\n",
    "from sklearn.preprocessing import StandardScaler"
   ]
  },
  {
   "cell_type": "code",
   "execution_count": 16,
   "id": "0451a2c4",
   "metadata": {},
   "outputs": [],
   "source": [
    "conductivity_data = data['Conductivity (�mhos/cm)']\n",
    "data = data.drop(['Conductivity (�mhos/cm)'],axis=1)\n",
    "\n",
    "X = data\n",
    "y = conductivity_data"
   ]
  },
  {
   "cell_type": "code",
   "execution_count": 17,
   "id": "a74e6af5",
   "metadata": {},
   "outputs": [
    {
     "name": "stdout",
     "output_type": "stream",
     "text": [
      "(1000, 4) (1000,)\n"
     ]
    }
   ],
   "source": [
    "print(X.shape, y.shape)"
   ]
  },
  {
   "cell_type": "code",
   "execution_count": 18,
   "id": "0de2ee20",
   "metadata": {},
   "outputs": [
    {
     "data": {
      "text/html": [
       "<div>\n",
       "<style scoped>\n",
       "    .dataframe tbody tr th:only-of-type {\n",
       "        vertical-align: middle;\n",
       "    }\n",
       "\n",
       "    .dataframe tbody tr th {\n",
       "        vertical-align: top;\n",
       "    }\n",
       "\n",
       "    .dataframe thead th {\n",
       "        text-align: right;\n",
       "    }\n",
       "</style>\n",
       "<table border=\"1\" class=\"dataframe\">\n",
       "  <thead>\n",
       "    <tr style=\"text-align: right;\">\n",
       "      <th></th>\n",
       "      <th>Temperature (�C)</th>\n",
       "      <th>pH</th>\n",
       "      <th>Turbidity (NTU)</th>\n",
       "      <th>NITRATENAN N+ NITRITENANN (mg/l)</th>\n",
       "    </tr>\n",
       "  </thead>\n",
       "  <tbody>\n",
       "    <tr>\n",
       "      <th>0</th>\n",
       "      <td>30.6</td>\n",
       "      <td>7.5</td>\n",
       "      <td>47.0</td>\n",
       "      <td>0.13</td>\n",
       "    </tr>\n",
       "    <tr>\n",
       "      <th>1</th>\n",
       "      <td>30.6</td>\n",
       "      <td>7.2</td>\n",
       "      <td>45.8</td>\n",
       "      <td>0.12</td>\n",
       "    </tr>\n",
       "    <tr>\n",
       "      <th>2</th>\n",
       "      <td>30.6</td>\n",
       "      <td>7.1</td>\n",
       "      <td>45.4</td>\n",
       "      <td>0.10</td>\n",
       "    </tr>\n",
       "    <tr>\n",
       "      <th>3</th>\n",
       "      <td>30.6</td>\n",
       "      <td>7.1</td>\n",
       "      <td>45.6</td>\n",
       "      <td>0.12</td>\n",
       "    </tr>\n",
       "    <tr>\n",
       "      <th>4</th>\n",
       "      <td>30.6</td>\n",
       "      <td>7.2</td>\n",
       "      <td>46.0</td>\n",
       "      <td>0.13</td>\n",
       "    </tr>\n",
       "  </tbody>\n",
       "</table>\n",
       "</div>"
      ],
      "text/plain": [
       "   Temperature (�C)   pH  Turbidity (NTU)  NITRATENAN N+ NITRITENANN (mg/l)\n",
       "0              30.6  7.5             47.0                              0.13\n",
       "1              30.6  7.2             45.8                              0.12\n",
       "2              30.6  7.1             45.4                              0.10\n",
       "3              30.6  7.1             45.6                              0.12\n",
       "4              30.6  7.2             46.0                              0.13"
      ]
     },
     "execution_count": 18,
     "metadata": {},
     "output_type": "execute_result"
    }
   ],
   "source": [
    "X.head()"
   ]
  },
  {
   "cell_type": "code",
   "execution_count": 19,
   "id": "98d77d5a",
   "metadata": {},
   "outputs": [
    {
     "data": {
      "text/plain": [
       "0    208\n",
       "1    210\n",
       "2    219\n",
       "3    220\n",
       "4    215\n",
       "Name: Conductivity (�mhos/cm), dtype: int64"
      ]
     },
     "execution_count": 19,
     "metadata": {},
     "output_type": "execute_result"
    }
   ],
   "source": [
    "y.head()"
   ]
  },
  {
   "cell_type": "code",
   "execution_count": null,
   "id": "cd81dfc5",
   "metadata": {},
   "outputs": [],
   "source": []
  }
 ],
 "metadata": {
  "kernelspec": {
   "display_name": "Python 3",
   "language": "python",
   "name": "python3"
  },
  "language_info": {
   "codemirror_mode": {
    "name": "ipython",
    "version": 3
   },
   "file_extension": ".py",
   "mimetype": "text/x-python",
   "name": "python",
   "nbconvert_exporter": "python",
   "pygments_lexer": "ipython3",
   "version": "3.8.8"
  }
 },
 "nbformat": 4,
 "nbformat_minor": 5
}
