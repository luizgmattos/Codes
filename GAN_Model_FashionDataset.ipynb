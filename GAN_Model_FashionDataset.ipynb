{
 "cells": [
  {
   "cell_type": "code",
   "execution_count": 1,
   "id": "32d3efa6",
   "metadata": {},
   "outputs": [],
   "source": [
    "## First Imports\n",
    "\n",
    "import pandas as pd\n",
    "import numpy as np\n",
    "import tensorflow as tf\n",
    "from keras.datasets import fashion_mnist\n",
    "from numpy import reshape\n",
    "import matplotlib.pyplot as plt"
   ]
  },
  {
   "cell_type": "code",
   "execution_count": 2,
   "id": "044928ae",
   "metadata": {},
   "outputs": [],
   "source": [
    "## Loading the dataset\n",
    "(train_luiz_x, train_luiz_y),(test_luiz_x,test_luiz_y) = fashion_mnist.load_data()"
   ]
  },
  {
   "cell_type": "code",
   "execution_count": 3,
   "id": "734f551d",
   "metadata": {},
   "outputs": [],
   "source": [
    "## Associating to dictionaries\n",
    "ds1_luiz = {\n",
    "    \"images\":train_luiz_x,\n",
    "    \"labels\": train_luiz_y\n",
    "}\n",
    "\n",
    "ds2_luiz = {\n",
    "    \"images\":test_luiz_x,\n",
    "    \"labels\":test_luiz_y\n",
    "}"
   ]
  },
  {
   "cell_type": "markdown",
   "id": "ae3065a7",
   "metadata": {},
   "source": [
    "# Data Preprocessing"
   ]
  },
  {
   "cell_type": "code",
   "execution_count": 4,
   "id": "fd5ef78f",
   "metadata": {},
   "outputs": [],
   "source": [
    "ds1_luiz[\"images\"] = ((ds1_luiz[\"images\"]/255)*2)-1\n",
    "ds2_luiz[\"images\"] = ((ds2_luiz[\"images\"]/255)*2)-1"
   ]
  },
  {
   "cell_type": "code",
   "execution_count": 5,
   "id": "80e8f521",
   "metadata": {},
   "outputs": [],
   "source": [
    "## Normalizing the pixels to -1 and 1\n",
    "ds1_luiz['images'] = np.reshape(ds1_luiz['images'],[-1,28,28,1])\n",
    "ds2_luiz['images'] = np.reshape(ds2_luiz['images'],[-1,28,28,1])"
   ]
  },
  {
   "cell_type": "code",
   "execution_count": 6,
   "id": "6cf7a9c1",
   "metadata": {},
   "outputs": [
    {
     "name": "stdout",
     "output_type": "stream",
     "text": [
      "Shape of ds1_luiz: (60000, 28, 28, 1)\n",
      "Shape of ds2_luiz: (10000, 28, 28, 1)\n"
     ]
    }
   ],
   "source": [
    "## Printing the shape of the dictionaries\n",
    "print(\"Shape of ds1_luiz:\",ds1_luiz['images'].shape)\n",
    "print(\"Shape of ds2_luiz:\",ds2_luiz['images'].shape)"
   ]
  },
  {
   "cell_type": "code",
   "execution_count": 7,
   "id": "3acdb0c3",
   "metadata": {},
   "outputs": [
    {
     "name": "stdout",
     "output_type": "stream",
     "text": [
      "Dataset_luiz shape: (70000, 28, 28, 1)\n",
      "Dataset_luiz shape: (70000,)\n"
     ]
    },
    {
     "data": {
      "text/plain": [
       "70000"
      ]
     },
     "execution_count": 7,
     "metadata": {},
     "output_type": "execute_result"
    }
   ],
   "source": [
    "## Concatenating both images dictionary\n",
    "dataset_luiz=dict()\n",
    "dataset_luiz['images'] = np.concatenate([ds1_luiz[\"images\"], ds2_luiz[\"images\"]])\n",
    "dataset_luiz['labels'] = np.concatenate([ds1_luiz[\"labels\"], ds2_luiz[\"labels\"]])\n",
    "\n",
    "## Print \n",
    "print(\"Dataset_luiz shape:\",dataset_luiz['images'].shape)\n",
    "print(\"Dataset_luiz shape:\",dataset_luiz['labels'].shape)\n",
    "len(dataset_luiz['images'])"
   ]
  },
  {
   "cell_type": "code",
   "execution_count": 8,
   "id": "5942d94d",
   "metadata": {},
   "outputs": [],
   "source": [
    "ds_images=[]\n",
    "for i in range(0,len(dataset_luiz['images'])):\n",
    "  if(dataset_luiz['labels'][i]==1):\n",
    "    ds_images.append(dataset_luiz['images'][i])"
   ]
  },
  {
   "cell_type": "code",
   "execution_count": 9,
   "id": "df71a75d",
   "metadata": {},
   "outputs": [],
   "source": [
    "dataset_luiz=ds_images"
   ]
  },
  {
   "cell_type": "code",
   "execution_count": 10,
   "id": "8b4b56bc",
   "metadata": {},
   "outputs": [
    {
     "data": {
      "image/png": "[encoded data removed]",
      "text/plain": [
       "<Figure size 576x576 with 12 Axes>"
      ]
     },
     "metadata": {
      "needs_background": "dark"
     },
     "output_type": "display_data"
    }
   ],
   "source": [
    "## Displaying only pants in the dataset\n",
    "fig, axs = plt.subplots(4, 3, figsize=(8,8))\n",
    "index = 0\n",
    "for col in range(len(axs)):\n",
    "  for cell in range(len(axs[col])):\n",
    "    axs[col][cell].tick_params(axis='both', which='both', grid_alpha=0, colors=\"w\")\n",
    "    axs[col][cell].imshow(dataset_luiz[index].reshape(28,28),cmap='gray')\n",
    "    index += 1"
   ]
  },
  {
   "cell_type": "code",
   "execution_count": 11,
   "id": "c1214094",
   "metadata": {},
   "outputs": [],
   "source": [
    "## Shuffle 7000 images and batch size of 256\n",
    "from tensorflow.data import Dataset\n",
    "train_dataset_luiz = tf.data.Dataset.from_tensor_slices(dataset_luiz).shuffle(7000).batch(256)"
   ]
  },
  {
   "cell_type": "markdown",
   "id": "56b87679",
   "metadata": {},
   "source": [
    "# Building the Generator Model of the GAN"
   ]
  },
  {
   "cell_type": "code",
   "execution_count": 12,
   "id": "62adb54f",
   "metadata": {},
   "outputs": [],
   "source": [
    "## Additional Imports\n",
    "from tensorflow.keras.models import Sequential\n",
    "from tensorflow.keras import layers\n",
    "from tensorflow.keras.models import Model\n",
    "from tensorflow.keras.optimizers import Adam\n",
    "from tensorflow.keras.layers import Dense, Flatten, Reshape,BatchNormalization, LeakyReLU, Conv2DTranspose, Input,Conv2D, Dropout\n",
    "from tensorflow import keras\n",
    "from tensorflow.keras.losses import BinaryCrossentropy\n",
    "from keras import backend as K"
   ]
  },
  {
   "cell_type": "code",
   "execution_count": 13,
   "id": "a515e767",
   "metadata": {},
   "outputs": [],
   "source": [
    "## Creating the discrimator model\n",
    "generator_model_luiz = Sequential(name=\"generator_model_luiz\")\n",
    "generator_model_luiz.add(Input(100))\n",
    "generator_model_luiz.add(Dense(7*7*256, use_bias=False))\n",
    "generator_model_luiz.add(BatchNormalization())\n",
    "generator_model_luiz.add(LeakyReLU())\n",
    "generator_model_luiz.add(Reshape((7,7,256)))\n",
    "generator_model_luiz.add(Conv2DTranspose(128, (5,5), use_bias=False, padding=\"same\", strides=(1,1)))\n",
    "generator_model_luiz.add(BatchNormalization())\n",
    "generator_model_luiz.add(LeakyReLU())\n",
    "generator_model_luiz.add(Conv2DTranspose(64, (5,5), use_bias=False, padding=\"same\", strides=(2,2)))\n",
    "generator_model_luiz.add(BatchNormalization())\n",
    "generator_model_luiz.add(LeakyReLU())\n",
    "generator_model_luiz.add(Conv2DTranspose(1, (5,5), use_bias=False, padding=\"same\", strides=(2,2), activation=\"tanh\"))"
   ]
  },
  {
   "cell_type": "code",
   "execution_count": 14,
   "id": "517a09eb",
   "metadata": {},
   "outputs": [
    {
     "name": "stdout",
     "output_type": "stream",
     "text": [
      "Model: \"generator_model_luiz\"\n",
      "_________________________________________________________________\n",
      " Layer (type)                Output Shape              Param #   \n",
      "=================================================================\n",
      " dense (Dense)               (None, 12544)             1254400   \n",
      "                                                                 \n",
      " batch_normalization (BatchN  (None, 12544)            50176     \n",
      " ormalization)                                                   \n",
      "                                                                 \n",
      " leaky_re_lu (LeakyReLU)     (None, 12544)             0         \n",
      "                                                                 \n",
      " reshape (Reshape)           (None, 7, 7, 256)         0         \n",
      "                                                                 \n",
      " conv2d_transpose (Conv2DTra  (None, 7, 7, 128)        819200    \n",
      " nspose)                                                         \n",
      "                                                                 \n",
      " batch_normalization_1 (Batc  (None, 7, 7, 128)        512       \n",
      " hNormalization)                                                 \n",
      "                                                                 \n",
      " leaky_re_lu_1 (LeakyReLU)   (None, 7, 7, 128)         0         \n",
      "                                                                 \n",
      " conv2d_transpose_1 (Conv2DT  (None, 14, 14, 64)       204800    \n",
      " ranspose)                                                       \n",
      "                                                                 \n",
      " batch_normalization_2 (Batc  (None, 14, 14, 64)       256       \n",
      " hNormalization)                                                 \n",
      "                                                                 \n",
      " leaky_re_lu_2 (LeakyReLU)   (None, 14, 14, 64)        0         \n",
      "                                                                 \n",
      " conv2d_transpose_2 (Conv2DT  (None, 28, 28, 1)        1600      \n",
      " ranspose)                                                       \n",
      "                                                                 \n",
      "=================================================================\n",
      "Total params: 2,330,944\n",
      "Trainable params: 2,305,472\n",
      "Non-trainable params: 25,472\n",
      "_________________________________________________________________\n"
     ]
    }
   ],
   "source": [
    "## Generator summary\n",
    "generator_model_luiz.summary()"
   ]
  },
  {
   "cell_type": "markdown",
   "id": "0fd77eaa",
   "metadata": {},
   "source": [
    "# Sample Untrained Generator"
   ]
  },
  {
   "cell_type": "code",
   "execution_count": 15,
   "id": "19c522ac",
   "metadata": {},
   "outputs": [
    {
     "data": {
      "text/plain": [
       "<matplotlib.image.AxesImage at 0x1f2046fbee0>"
      ]
     },
     "execution_count": 15,
     "metadata": {},
     "output_type": "execute_result"
    },
    {
     "data": {
      "image/png": "[encoded data removed]",
      "text/plain": [
       "<Figure size 432x288 with 1 Axes>"
      ]
     },
     "metadata": {
      "needs_background": "light"
     },
     "output_type": "display_data"
    }
   ],
   "source": [
    "## Using tensorflow random.normal() to create noise on image and display\n",
    "noise = tf.random.normal(shape=[1,100])\n",
    "noise_image = generator_model_luiz(noise, training=False)\n",
    "plt.imshow(noise_image[0, :, :, 0], cmap='gray')"
   ]
  },
  {
   "cell_type": "markdown",
   "id": "2b2be4e4",
   "metadata": {},
   "source": [
    "# Building Discriminator Model"
   ]
  },
  {
   "cell_type": "code",
   "execution_count": 16,
   "id": "f73e3ba8",
   "metadata": {},
   "outputs": [],
   "source": [
    "## Creating the discrimator model\n",
    "discriminator_model_luiz = Sequential(name=\"discriminator_model_luiz\")\n",
    "discriminator_model_luiz.add(Input((28,28,1)))\n",
    "discriminator_model_luiz.add(Conv2D(64, (5,5), strides=(2,2), input_shape=(28,28,1), padding=\"same\"))\n",
    "discriminator_model_luiz.add(LeakyReLU())\n",
    "discriminator_model_luiz.add(Dropout(0.3))\n",
    "discriminator_model_luiz.add(Conv2D(128, (5,5), strides=(2,2), padding=\"same\"))\n",
    "discriminator_model_luiz.add(LeakyReLU())\n",
    "discriminator_model_luiz.add(Dropout(0.3))\n",
    "discriminator_model_luiz.add(Conv2DTranspose(64, (5,5), use_bias=False, strides=(2,2), padding=\"same\"))\n",
    "discriminator_model_luiz.add(BatchNormalization())\n",
    "discriminator_model_luiz.add(LeakyReLU())\n",
    "discriminator_model_luiz.add(Flatten())\n",
    "discriminator_model_luiz.add(Dense(1))"
   ]
  },
  {
   "cell_type": "code",
   "execution_count": 17,
   "id": "3a38a0c1",
   "metadata": {},
   "outputs": [
    {
     "name": "stdout",
     "output_type": "stream",
     "text": [
      "Model: \"discriminator_model_luiz\"\n",
      "_________________________________________________________________\n",
      " Layer (type)                Output Shape              Param #   \n",
      "=================================================================\n",
      " conv2d (Conv2D)             (None, 14, 14, 64)        1664      \n",
      "                                                                 \n",
      " leaky_re_lu_3 (LeakyReLU)   (None, 14, 14, 64)        0         \n",
      "                                                                 \n",
      " dropout (Dropout)           (None, 14, 14, 64)        0         \n",
      "                                                                 \n",
      " conv2d_1 (Conv2D)           (None, 7, 7, 128)         204928    \n",
      "                                                                 \n",
      " leaky_re_lu_4 (LeakyReLU)   (None, 7, 7, 128)         0         \n",
      "                                                                 \n",
      " dropout_1 (Dropout)         (None, 7, 7, 128)         0         \n",
      "                                                                 \n",
      " conv2d_transpose_3 (Conv2DT  (None, 14, 14, 64)       204800    \n",
      " ranspose)                                                       \n",
      "                                                                 \n",
      " batch_normalization_3 (Batc  (None, 14, 14, 64)       256       \n",
      " hNormalization)                                                 \n",
      "                                                                 \n",
      " leaky_re_lu_5 (LeakyReLU)   (None, 14, 14, 64)        0         \n",
      "                                                                 \n",
      " flatten (Flatten)           (None, 12544)             0         \n",
      "                                                                 \n",
      " dense_1 (Dense)             (None, 1)                 12545     \n",
      "                                                                 \n",
      "=================================================================\n",
      "Total params: 424,193\n",
      "Trainable params: 424,065\n",
      "Non-trainable params: 128\n",
      "_________________________________________________________________\n"
     ]
    }
   ],
   "source": [
    "## Discriminator summary\n",
    "discriminator_model_luiz.summary()"
   ]
  },
  {
   "cell_type": "markdown",
   "id": "82b183fa",
   "metadata": {},
   "source": [
    "# Implement Training"
   ]
  },
  {
   "cell_type": "code",
   "execution_count": 18,
   "id": "af56e1f0",
   "metadata": {},
   "outputs": [],
   "source": [
    "## Creating loss function\n",
    "def cross_entropy_luiz(y_pred, y_true):\n",
    "    luiz_cross = BinaryCrossentropy(from_logits=True)\n",
    "    return luiz_cross(y_pred, y_true)"
   ]
  },
  {
   "cell_type": "code",
   "execution_count": 19,
   "id": "4ef49373",
   "metadata": {},
   "outputs": [],
   "source": [
    "## Generator Optimizer\n",
    "generator_optimizer_luiz = Adam()"
   ]
  },
  {
   "cell_type": "code",
   "execution_count": 20,
   "id": "2a5e1390",
   "metadata": {},
   "outputs": [],
   "source": [
    "## Discriminator Optimizer\n",
    "discriminator_optimizer_luiz = Adam()"
   ]
  },
  {
   "cell_type": "code",
   "execution_count": 21,
   "id": "6330920e",
   "metadata": {},
   "outputs": [],
   "source": [
    "def train_step(images):\n",
    "    noise = tf.random.normal([256, 100])\n",
    "    \n",
    "    with tf.GradientTape() as gen_tape, tf.GradientTape() as disc_tape:   \n",
    "        generated_images = generator_model_luiz(noise, training=True)\n",
    "        \n",
    "        real_output = discriminator_model_luiz(images, training=True)\n",
    "        fake_output = discriminator_model_luiz(generated_images, training=True)\n",
    "        \n",
    "        gen_loss = cross_entropy_luiz(tf.ones_like(fake_output), fake_output)\n",
    "        real_loss = cross_entropy_luiz(tf.ones_like(real_output), real_output)\n",
    "        fake_loss = cross_entropy_luiz(tf.zeros_like(fake_output), fake_output)\n",
    "        disc_loss = real_loss + fake_loss\n",
    "        \n",
    "    gradients_of_generator = gen_tape.gradient(gen_loss, generator_model_luiz.trainable_variables)\n",
    "    gradients_of_discriminator = disc_tape.gradient(disc_loss, discriminator_model_luiz.trainable_variables)    \n",
    "    generator_optimizer_luiz.apply_gradients(zip(gradients_of_generator, generator_model_luiz.trainable_variables))\n",
    "    discriminator_optimizer_luiz.apply_gradients(zip(gradients_of_discriminator, discriminator_model_luiz.trainable_variables))"
   ]
  },
  {
   "cell_type": "code",
   "execution_count": 22,
   "id": "c1728e89",
   "metadata": {},
   "outputs": [
    {
     "name": "stdout",
     "output_type": "stream",
     "text": [
      "Epoch:0, time:52.17858958244324\n",
      "Epoch:1, time:54.24730467796326\n",
      "Epoch:2, time:52.143091917037964\n",
      "Epoch:3, time:55.12702536582947\n",
      "Epoch:4, time:54.19771599769592\n",
      "Epoch:5, time:54.040074586868286\n",
      "Epoch:6, time:55.29910063743591\n",
      "Epoch:7, time:53.73309922218323\n",
      "Epoch:8, time:50.801003217697144\n",
      "Epoch:9, time:44.734389781951904\n"
     ]
    }
   ],
   "source": [
    "## Epoch training and time\n",
    "import time\n",
    "\n",
    "epochs = 10\n",
    "for i in range(epochs):\n",
    "    start = time.time()\n",
    "    for batch in train_dataset_luiz:\n",
    "        train_step(batch)\n",
    "    end = time.time()\n",
    "    duration_time = end - start\n",
    "    print(f\"Epoch:{i}, time:{duration_time}\")"
   ]
  },
  {
   "cell_type": "markdown",
   "id": "976c17d4",
   "metadata": {},
   "source": [
    "# Visualized Trained Generator"
   ]
  },
  {
   "cell_type": "code",
   "execution_count": 23,
   "id": "1618fd69",
   "metadata": {},
   "outputs": [],
   "source": [
    "## Using random.normal()\n",
    "vectors = []\n",
    "for i in range(16):\n",
    "    vector = tf.random.normal((1,100))\n",
    "    vectors.append(vector)"
   ]
  },
  {
   "cell_type": "code",
   "execution_count": 24,
   "id": "3660dbe5",
   "metadata": {},
   "outputs": [],
   "source": [
    "## Generate an image from generator_model\n",
    "generated_images = np.array(list(map(lambda vector: generator_model_luiz(vector, training=False), vectors)))"
   ]
  },
  {
   "cell_type": "code",
   "execution_count": 25,
   "id": "667ce311",
   "metadata": {},
   "outputs": [],
   "source": [
    "## Normalize the pixels\n",
    "generated_images = (generated_images * 127.5) + 127.5"
   ]
  },
  {
   "cell_type": "code",
   "execution_count": 26,
   "id": "8ca7aac4",
   "metadata": {},
   "outputs": [
    {
     "data": {
      "image/png": "[encoded data removed]",
      "text/plain": [
       "<Figure size 576x576 with 16 Axes>"
      ]
     },
     "metadata": {
      "needs_background": "dark"
     },
     "output_type": "display_data"
    }
   ],
   "source": [
    "## Display plot image\n",
    "fig, axs = plt.subplots(4, 4, figsize=(8,8))\n",
    "current_index = 0\n",
    "for col in range(len(axs)):\n",
    "  for cell in range(len(axs[col])):\n",
    "    axs[col][cell].tick_params(axis='both', which='both', grid_alpha=0, colors=\"w\")\n",
    "    axs[col][cell].imshow(generated_images[current_index].reshape(28,28))\n",
    "    current_index += 1"
   ]
  }
 ],
 "metadata": {
  "kernelspec": {
   "display_name": "Python 3",
   "language": "python",
   "name": "python3"
  },
  "language_info": {
   "codemirror_mode": {
    "name": "ipython",
    "version": 3
   },
   "file_extension": ".py",
   "mimetype": "text/x-python",
   "name": "python",
   "nbconvert_exporter": "python",
   "pygments_lexer": "ipython3",
   "version": "3.8.8"
  }
 },
 "nbformat": 4,
 "nbformat_minor": 5
}
